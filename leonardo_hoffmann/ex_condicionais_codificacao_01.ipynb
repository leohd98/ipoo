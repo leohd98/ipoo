{
 "cells": [
  {
   "cell_type": "markdown",
   "id": "2ef43721",
   "metadata": {},
   "source": [
    "# Exercícios"
   ]
  },
  {
   "cell_type": "markdown",
   "id": "550c7d09",
   "metadata": {},
   "source": [
    "### Exercício 1: Verificação de Idade\n",
    "\n",
    "**Instruções:**\n",
    "Escreva um programa que receba a idade de uma pessoa e imprima se ela é maior de idade (18 anos ou mais) ou menor de idade.\n",
    "\n",
    "**Exemplo de Entrada e Saída:**\n",
    "- Entrada: 20\n",
    "- Saída: \"Você é maior de idade.\"\n",
    "- Entrada: 15\n",
    "- Saída: \"Você é menor de idade.\""
   ]
  },
  {
   "cell_type": "code",
   "execution_count": 5,
   "id": "23eba4f9",
   "metadata": {},
   "outputs": [
    {
     "name": "stdout",
     "output_type": "stream",
     "text": [
      "Você é maior de idade\n"
     ]
    }
   ],
   "source": [
    "entrada = int(input('Digite a sua idade: '))\n",
    "if entrada >= 20:\n",
    "    print('Você é maior de idade')\n",
    "else:\n",
    "    print('Você é menor de idade')"
   ]
  },
  {
   "cell_type": "markdown",
   "id": "e7965ae6",
   "metadata": {},
   "source": [
    "### Exercício 2: Verificação de Par ou Ímpar\n",
    "\n",
    "**Instruções:**\n",
    "Escreva um programa que receba um número inteiro e imprima se ele é par ou ímpar.\n",
    "\n",
    "**Exemplo de Entrada e Saída:**\n",
    "- Entrada: 4\n",
    "- Saída: \"O número é par.\"\n",
    "- Entrada: 7\n",
    "- Saída: \"O número é ímpar.\""
   ]
  },
  {
   "cell_type": "code",
   "execution_count": 13,
   "id": "90c61f8a",
   "metadata": {},
   "outputs": [
    {
     "name": "stdout",
     "output_type": "stream",
     "text": [
      "O número é ímpar\n"
     ]
    }
   ],
   "source": [
    "entrada = int(input('Digite um número inteiro: '))\n",
    "if (entrada % 2) == 0:\n",
    "    print('O número é par')\n",
    "else:\n",
    "    print('O número é ímpar')"
   ]
  },
  {
   "cell_type": "markdown",
   "id": "803cc43d",
   "metadata": {},
   "source": [
    "### Exercício 3: Verificação de Aprovação\n",
    "\n",
    "**Instruções:**\n",
    "Escreva um programa que receba a nota de um aluno e imprima se ele foi aprovado (nota 7 ou mais) ou reprovado (nota menor que 7).\n",
    "\n",
    "**Exemplo de Entrada e Saída:**\n",
    "- Entrada: 8\n",
    "- Saída: \"Você foi aprovado.\"\n",
    "- Entrada: 6\n",
    "- Saída: \"Você foi reprovado.\""
   ]
  },
  {
   "cell_type": "code",
   "execution_count": 16,
   "id": "611466fe",
   "metadata": {},
   "outputs": [
    {
     "name": "stdout",
     "output_type": "stream",
     "text": [
      "Você foi reprovado\n"
     ]
    }
   ],
   "source": [
    "entrada = float(input('Digite a nota do aluno: '))\n",
    "if entrada >= 7:\n",
    "    print('Você foi aprovado')\n",
    "else:\n",
    "    print('Você foi reprovado')"
   ]
  },
  {
   "cell_type": "markdown",
   "id": "d9e5c764",
   "metadata": {},
   "source": [
    "### Exercício 4: Verificação de Palíndromo\n",
    "\n",
    "**Instruções:**\n",
    "Escreva um programa que receba uma string e verifique se ela é um palíndromo (lê-se da mesma forma de trás para frente). Imprima \"A string é um palíndromo.\" ou \"A string não é um palíndromo.\"\n",
    "\n",
    "**Exemplo de Entrada e Saída:**\n",
    "- Entrada: \"radar\"\n",
    "- Saída: \"A string é um palíndromo.\"\n",
    "- Entrada: \"python\"\n",
    "- Saída: \"A string não é um palíndromo.\""
   ]
  },
  {
   "cell_type": "code",
   "execution_count": 1,
   "id": "cd5d9f61",
   "metadata": {},
   "outputs": [
    {
     "name": "stdout",
     "output_type": "stream",
     "text": [
      "A string é um palíndromo\n"
     ]
    }
   ],
   "source": [
    "entrada = input('Escreva uma palavra: ').upper()\n",
    "inversao = entrada[::-1]\n",
    "if entrada == inversao:\n",
    "    print('A string é um palíndromo')\n",
    "else:\n",
    "    print('A string não é um palíndromo')"
   ]
  },
  {
   "cell_type": "markdown",
   "id": "040f4353",
   "metadata": {},
   "source": [
    "### Exercício 5: Verificação de Vogal ou Consoante\n",
    "\n",
    "**Instruções:**\n",
    "Escreva um programa que receba um caractere e verifique se ele é uma vogal ou uma consoante. Imprima \"O caractere é uma vogal.\" ou \"O caractere é uma consoante.\"\n",
    "\n",
    "**Exemplo de Entrada e Saída:**\n",
    "- Entrada: \"a\"\n",
    "- Saída: \"O caractere é uma vogal.\"\n",
    "- Entrada: \"b\"\n",
    "- Saída: \"O caractere é uma consoante.\""
   ]
  },
  {
   "cell_type": "code",
   "execution_count": 32,
   "id": "189d5a93",
   "metadata": {},
   "outputs": [
    {
     "name": "stdout",
     "output_type": "stream",
     "text": [
      "O caractere é uma consoante\n"
     ]
    }
   ],
   "source": [
    "entrada = str(input('Digite um caractere: ')).upper()\n",
    "vogais = ['A', 'E', 'I', 'O', 'U']\n",
    "if entrada in vogais:\n",
    "    print('O caractere é uma vogal')\n",
    "else:\n",
    "    print('O caractere é uma consoante')"
   ]
  },
  {
   "cell_type": "markdown",
   "id": "aa1e9ad0",
   "metadata": {},
   "source": [
    "### Exercício 6: Verificação de Senha\n",
    "\n",
    "**Instruções:**\n",
    "Escreva um programa que receba uma senha e verifique se ela é válida. A senha é considerada válida se tiver pelo menos 8 caracteres. Imprima \"Senha válida.\" ou \"Senha inválida.\"\n",
    "\n",
    "**Exemplo de Entrada e Saída:**\n",
    "- Entrada: \"senha123\"\n",
    "- Saída: \"Senha válida.\"\n",
    "- Entrada: \"senha\"\n",
    "- Saída: \"Senha inválida.\""
   ]
  },
  {
   "cell_type": "code",
   "execution_count": 34,
   "id": "595ac074",
   "metadata": {},
   "outputs": [
    {
     "name": "stdout",
     "output_type": "stream",
     "text": [
      "Senha inválida\n"
     ]
    }
   ],
   "source": [
    "senha = str(input('Digite a senha: '))\n",
    "if len(senha) >= 8:\n",
    "    print('Senha válida')\n",
    "else:\n",
    "    print('Senha inválida')"
   ]
  }
 ],
 "metadata": {
  "kernelspec": {
   "display_name": "Python 3",
   "language": "python",
   "name": "python3"
  },
  "language_info": {
   "codemirror_mode": {
    "name": "ipython",
    "version": 3
   },
   "file_extension": ".py",
   "mimetype": "text/x-python",
   "name": "python",
   "nbconvert_exporter": "python",
   "pygments_lexer": "ipython3",
   "version": "3.11.9"
  }
 },
 "nbformat": 4,
 "nbformat_minor": 5
}
