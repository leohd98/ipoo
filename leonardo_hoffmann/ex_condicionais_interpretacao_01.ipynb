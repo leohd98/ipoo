{
 "cells": [
  {
   "cell_type": "markdown",
   "metadata": {},
   "source": [
    "# Exercícios"
   ]
  },
  {
   "cell_type": "markdown",
   "metadata": {},
   "source": [
    "---"
   ]
  },
  {
   "cell_type": "markdown",
   "metadata": {},
   "source": [
    "### Exercício 1: Interpretação de Código - Verificação de Número Positivo ou Negativo\n",
    "\n",
    "**Código:**\n",
    "```python\n",
    "numero = int(input(\"Digite um número: \"))\n",
    "\n",
    "if numero >= 0:\n",
    "    print(\"O número é positivo.\")\n",
    "else:\n",
    "    print(\"O número é negativo.\")\n",
    "```\n",
    "\n",
    "**Instruções:**\n",
    "1. Explique o que o código faz.\n",
    "2. Dê exemplos de entrada e saída.\n",
    "3. Modifique o código para que ele também verifique se o número é zero e imprima \"O número é zero.\""
   ]
  },
  {
   "cell_type": "markdown",
   "metadata": {},
   "source": [
    "### Resolução\n",
    "1. O código analisa se o número digitado é maior ou menor do que 0, logo, se for maior é positivo e se for menor é negativo.\n",
    "2. 1 = 'O número é positivo' | -1 = 'O número é negativo'\n",
    "3. \n",
    "    ```python\n",
    "    numero = int(input(\"Digite um número: \"))\n",
    "\n",
    "    if numero > 0:\n",
    "        print(\"O número é positivo.\")\n",
    "    elif numero == 0:\n",
    "        print(\"O número é zero.\")\n",
    "    else:\n",
    "        print(\"O número é negativo.\")\n",
    "    ```"
   ]
  },
  {
   "cell_type": "markdown",
   "metadata": {},
   "source": [
    "---"
   ]
  },
  {
   "cell_type": "markdown",
   "metadata": {},
   "source": [
    "### Exercício 2: Interpretação de Código - Verificação de Dia da Semana\n",
    "\n",
    "**Código:**\n",
    "```python\n",
    "dia = input(\"Digite o nome do dia da semana: \")\n",
    "\n",
    "if dia == \"sábado\" or dia == \"domingo\":\n",
    "    print(\"É fim de semana.\")\n",
    "else:\n",
    "    print(\"É dia de semana.\")\n",
    "```\n",
    "\n",
    "**Instruções:**\n",
    "1. Explique o que o código faz.\n",
    "2. Dê exemplos de entrada e saída.\n",
    "3. Modifique o código para que ele também verifique se o dia é \"segunda-feira\" e imprima \"É segunda-feira, começo de semana!\""
   ]
  },
  {
   "cell_type": "markdown",
   "metadata": {},
   "source": [
    "### Resolução\n",
    "1. O código printa uma mensagem indicando se é fim de semana ou não, baseado no input do user, se o input for 'Sábado' OU 'Domingo', ele retorna true.\n",
    "2. dia = 'sábado' ou 'domingo' ele retorna 'É fim de semana', se for qualquer outro input, ele retorna dia de semana.\n",
    "3. \n",
    "    ```python\n",
    "    dia = input(\"Digite o nome do dia da semana: \")\n",
    "\n",
    "    if dia == \"sábado\" or dia == \"domingo\":\n",
    "        print(\"É fim de semana.\")\n",
    "    elif dia == 'segunda-feira' or dia == 'segunda':\n",
    "        print(É segunda-feira, começo de semana!)\n",
    "    else:\n",
    "        print(\"É dia de semana.\")\n",
    "    ```   "
   ]
  },
  {
   "cell_type": "markdown",
   "metadata": {},
   "source": [
    "---"
   ]
  },
  {
   "cell_type": "markdown",
   "metadata": {},
   "source": [
    "### Exercício 3: Interpretação de Código - Verificação de Nota\n",
    "\n",
    "**Código:**\n",
    "```python\n",
    "nota = float(input(\"Digite a nota do aluno: \"))\n",
    "\n",
    "if nota >= 7:\n",
    "    print(\"Aprovado.\")\n",
    "else:\n",
    "    print(\"Reprovado.\")\n",
    "```\n",
    "\n",
    "**Instruções:**\n",
    "1. Explique o que o código faz.\n",
    "2. Dê exemplos de entrada e saída.\n",
    "3. Modifique o código para que ele também verifique se a nota é menor que 4 e imprima \"Reprovado por falta de frequência.\""
   ]
  },
  {
   "cell_type": "markdown",
   "metadata": {},
   "source": [
    "### Resolução\n",
    "1. Analisa a nota de um aluno e reprova ele caso ela seja menor que 7.\n",
    "2. Input >= 7 printa aprovado, input < 7 printa reprovado.\n",
    "3. \n",
    "    ```python\n",
    "    nota = float(input(\"Digite a nota do aluno: \"))\n",
    "\n",
    "    if nota >= 7:\n",
    "        print(\"Aprovado.\")\n",
    "    elif nota < 4:\n",
    "        print('Reprovado por falta de frequência.')        \n",
    "    else:\n",
    "        print(\"Reprovado.\")\n",
    "    ``` "
   ]
  }
 ],
 "metadata": {
  "kernelspec": {
   "display_name": "Python 3",
   "language": "python",
   "name": "python3"
  },
  "language_info": {
   "name": "python",
   "version": "3.11.9"
  }
 },
 "nbformat": 4,
 "nbformat_minor": 2
}
